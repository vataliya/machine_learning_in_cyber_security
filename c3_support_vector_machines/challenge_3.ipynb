{
 "cells": [
  {
   "cell_type": "code",
   "execution_count": 1,
   "metadata": {},
   "outputs": [],
   "source": [
    "# Challenge 3 Prediction Bot/Human Social Media Accounts\n",
    "\n",
    "#Importing required libraries\n",
    "import time\n",
    "import pandas as pd\n",
    "from sklearn import preprocessing, svm\n",
    "from sklearn.model_selection import train_test_split, cross_val_score, GridSearchCV\n",
    "from sklearn.neighbors import KNeighborsClassifier\n",
    "from sklearn.metrics import confusion_matrix, classification_report, accuracy_score"
   ]
  },
  {
   "cell_type": "code",
   "execution_count": 2,
   "metadata": {
    "pycharm": {
     "name": "#%%\n"
    }
   },
   "outputs": [],
   "source": [
    "#Reading data into Pandas Dataframe\n",
    "data = pd.read_csv(r'D:\\ML_Cyber\\Dataset_Challenge3.csv')"
   ]
  },
  {
   "cell_type": "code",
   "execution_count": 3,
   "metadata": {
    "pycharm": {
     "name": "#%%\n"
    }
   },
   "outputs": [
    {
     "name": "stdout",
     "output_type": "stream",
     "text": [
      "<class 'pandas.core.frame.DataFrame'>\n",
      "RangeIndex: 37438 entries, 0 to 37437\n",
      "Data columns (total 14 columns):\n",
      " #   Column                  Non-Null Count  Dtype  \n",
      "---  ------                  --------------  -----  \n",
      " 0   default_profile         37438 non-null  bool   \n",
      " 1   default_profile_image   37438 non-null  bool   \n",
      " 2   favorites_count         37438 non-null  int64  \n",
      " 3   followers_count         37438 non-null  int64  \n",
      " 4   friends_count           37438 non-null  int64  \n",
      " 5   geo_enabled             37438 non-null  bool   \n",
      " 6   id                      37438 non-null  float64\n",
      " 7   lang                    29481 non-null  object \n",
      " 8   location                37435 non-null  object \n",
      " 9   statuses_count          37438 non-null  int64  \n",
      " 10  verified                37438 non-null  bool   \n",
      " 11  average_tweets_per_day  37438 non-null  float64\n",
      " 12  account_age_days        37438 non-null  int64  \n",
      " 13  account_type            37438 non-null  object \n",
      "dtypes: bool(4), float64(2), int64(5), object(3)\n",
      "memory usage: 3.0+ MB\n"
     ]
    },
    {
     "data": {
      "text/html": [
       "<div>\n",
       "<style scoped>\n",
       "    .dataframe tbody tr th:only-of-type {\n",
       "        vertical-align: middle;\n",
       "    }\n",
       "\n",
       "    .dataframe tbody tr th {\n",
       "        vertical-align: top;\n",
       "    }\n",
       "\n",
       "    .dataframe thead th {\n",
       "        text-align: right;\n",
       "    }\n",
       "</style>\n",
       "<table border=\"1\" class=\"dataframe\">\n",
       "  <thead>\n",
       "    <tr style=\"text-align: right;\">\n",
       "      <th></th>\n",
       "      <th>favorites_count</th>\n",
       "      <th>followers_count</th>\n",
       "      <th>friends_count</th>\n",
       "      <th>id</th>\n",
       "      <th>statuses_count</th>\n",
       "      <th>average_tweets_per_day</th>\n",
       "      <th>account_age_days</th>\n",
       "    </tr>\n",
       "  </thead>\n",
       "  <tbody>\n",
       "    <tr>\n",
       "      <th>count</th>\n",
       "      <td>37438.000000</td>\n",
       "      <td>3.743800e+04</td>\n",
       "      <td>3.743800e+04</td>\n",
       "      <td>3.743800e+04</td>\n",
       "      <td>3.743800e+04</td>\n",
       "      <td>37438.000000</td>\n",
       "      <td>37438.000000</td>\n",
       "    </tr>\n",
       "    <tr>\n",
       "      <th>mean</th>\n",
       "      <td>12302.062183</td>\n",
       "      <td>3.703098e+05</td>\n",
       "      <td>4.445925e+03</td>\n",
       "      <td>1.221485e+17</td>\n",
       "      <td>2.107339e+04</td>\n",
       "      <td>6.891668</td>\n",
       "      <td>3022.128052</td>\n",
       "    </tr>\n",
       "    <tr>\n",
       "      <th>std</th>\n",
       "      <td>33923.650237</td>\n",
       "      <td>2.470829e+06</td>\n",
       "      <td>4.954520e+04</td>\n",
       "      <td>3.004180e+17</td>\n",
       "      <td>6.732977e+04</td>\n",
       "      <td>24.580116</td>\n",
       "      <td>1013.695870</td>\n",
       "    </tr>\n",
       "    <tr>\n",
       "      <th>min</th>\n",
       "      <td>0.000000</td>\n",
       "      <td>0.000000e+00</td>\n",
       "      <td>0.000000e+00</td>\n",
       "      <td>4.180000e+02</td>\n",
       "      <td>0.000000e+00</td>\n",
       "      <td>0.000000</td>\n",
       "      <td>483.000000</td>\n",
       "    </tr>\n",
       "    <tr>\n",
       "      <th>25%</th>\n",
       "      <td>362.000000</td>\n",
       "      <td>3.500000e+01</td>\n",
       "      <td>3.700000e+01</td>\n",
       "      <td>9.957306e+07</td>\n",
       "      <td>1.336250e+03</td>\n",
       "      <td>0.495000</td>\n",
       "      <td>2316.250000</td>\n",
       "    </tr>\n",
       "    <tr>\n",
       "      <th>50%</th>\n",
       "      <td>2066.000000</td>\n",
       "      <td>3.650000e+02</td>\n",
       "      <td>2.960000e+02</td>\n",
       "      <td>3.991474e+08</td>\n",
       "      <td>4.209000e+03</td>\n",
       "      <td>1.488000</td>\n",
       "      <td>3219.000000</td>\n",
       "    </tr>\n",
       "    <tr>\n",
       "      <th>75%</th>\n",
       "      <td>8879.000000</td>\n",
       "      <td>8.440250e+03</td>\n",
       "      <td>8.930000e+02</td>\n",
       "      <td>2.453826e+09</td>\n",
       "      <td>1.715375e+04</td>\n",
       "      <td>5.528000</td>\n",
       "      <td>3888.000000</td>\n",
       "    </tr>\n",
       "    <tr>\n",
       "      <th>max</th>\n",
       "      <td>885123.000000</td>\n",
       "      <td>1.216415e+08</td>\n",
       "      <td>4.343060e+06</td>\n",
       "      <td>1.120000e+18</td>\n",
       "      <td>2.771910e+06</td>\n",
       "      <td>1269.055000</td>\n",
       "      <td>5158.000000</td>\n",
       "    </tr>\n",
       "  </tbody>\n",
       "</table>\n",
       "</div>"
      ],
      "text/plain": [
       "       favorites_count  followers_count  friends_count            id  \\\n",
       "count     37438.000000     3.743800e+04   3.743800e+04  3.743800e+04   \n",
       "mean      12302.062183     3.703098e+05   4.445925e+03  1.221485e+17   \n",
       "std       33923.650237     2.470829e+06   4.954520e+04  3.004180e+17   \n",
       "min           0.000000     0.000000e+00   0.000000e+00  4.180000e+02   \n",
       "25%         362.000000     3.500000e+01   3.700000e+01  9.957306e+07   \n",
       "50%        2066.000000     3.650000e+02   2.960000e+02  3.991474e+08   \n",
       "75%        8879.000000     8.440250e+03   8.930000e+02  2.453826e+09   \n",
       "max      885123.000000     1.216415e+08   4.343060e+06  1.120000e+18   \n",
       "\n",
       "       statuses_count  average_tweets_per_day  account_age_days  \n",
       "count    3.743800e+04            37438.000000      37438.000000  \n",
       "mean     2.107339e+04                6.891668       3022.128052  \n",
       "std      6.732977e+04               24.580116       1013.695870  \n",
       "min      0.000000e+00                0.000000        483.000000  \n",
       "25%      1.336250e+03                0.495000       2316.250000  \n",
       "50%      4.209000e+03                1.488000       3219.000000  \n",
       "75%      1.715375e+04                5.528000       3888.000000  \n",
       "max      2.771910e+06             1269.055000       5158.000000  "
      ]
     },
     "execution_count": 3,
     "metadata": {},
     "output_type": "execute_result"
    }
   ],
   "source": [
    "#Understanding data\n",
    "data.info()\n",
    "data.describe()"
   ]
  },
  {
   "cell_type": "code",
   "execution_count": 4,
   "metadata": {
    "pycharm": {
     "name": "#%%\n"
    }
   },
   "outputs": [
    {
     "data": {
      "text/html": [
       "<div>\n",
       "<style scoped>\n",
       "    .dataframe tbody tr th:only-of-type {\n",
       "        vertical-align: middle;\n",
       "    }\n",
       "\n",
       "    .dataframe tbody tr th {\n",
       "        vertical-align: top;\n",
       "    }\n",
       "\n",
       "    .dataframe thead th {\n",
       "        text-align: right;\n",
       "    }\n",
       "</style>\n",
       "<table border=\"1\" class=\"dataframe\">\n",
       "  <thead>\n",
       "    <tr style=\"text-align: right;\">\n",
       "      <th></th>\n",
       "      <th>default_profile</th>\n",
       "      <th>default_profile_image</th>\n",
       "      <th>favorites_count</th>\n",
       "      <th>followers_count</th>\n",
       "      <th>friends_count</th>\n",
       "      <th>geo_enabled</th>\n",
       "      <th>id</th>\n",
       "      <th>statuses_count</th>\n",
       "      <th>verified</th>\n",
       "      <th>average_tweets_per_day</th>\n",
       "      <th>account_age_days</th>\n",
       "    </tr>\n",
       "  </thead>\n",
       "  <tbody>\n",
       "    <tr>\n",
       "      <th>default_profile</th>\n",
       "      <td>1.000000</td>\n",
       "      <td>0.115994</td>\n",
       "      <td>-0.088897</td>\n",
       "      <td>-0.089969</td>\n",
       "      <td>-0.048898</td>\n",
       "      <td>-0.273882</td>\n",
       "      <td>0.309865</td>\n",
       "      <td>-0.131859</td>\n",
       "      <td>-0.264979</td>\n",
       "      <td>-0.082269</td>\n",
       "      <td>-0.459317</td>\n",
       "    </tr>\n",
       "    <tr>\n",
       "      <th>default_profile_image</th>\n",
       "      <td>0.115994</td>\n",
       "      <td>1.000000</td>\n",
       "      <td>-0.035908</td>\n",
       "      <td>-0.018062</td>\n",
       "      <td>-0.010599</td>\n",
       "      <td>-0.095831</td>\n",
       "      <td>0.014109</td>\n",
       "      <td>-0.027591</td>\n",
       "      <td>-0.058531</td>\n",
       "      <td>-0.020461</td>\n",
       "      <td>-0.047478</td>\n",
       "    </tr>\n",
       "    <tr>\n",
       "      <th>favorites_count</th>\n",
       "      <td>-0.088897</td>\n",
       "      <td>-0.035908</td>\n",
       "      <td>1.000000</td>\n",
       "      <td>-0.024431</td>\n",
       "      <td>0.066202</td>\n",
       "      <td>0.135524</td>\n",
       "      <td>-0.049551</td>\n",
       "      <td>0.264001</td>\n",
       "      <td>0.004998</td>\n",
       "      <td>0.275568</td>\n",
       "      <td>0.024098</td>\n",
       "    </tr>\n",
       "    <tr>\n",
       "      <th>followers_count</th>\n",
       "      <td>-0.089969</td>\n",
       "      <td>-0.018062</td>\n",
       "      <td>-0.024431</td>\n",
       "      <td>1.000000</td>\n",
       "      <td>0.048482</td>\n",
       "      <td>0.042550</td>\n",
       "      <td>-0.059866</td>\n",
       "      <td>0.031302</td>\n",
       "      <td>0.273493</td>\n",
       "      <td>0.010845</td>\n",
       "      <td>0.119114</td>\n",
       "    </tr>\n",
       "    <tr>\n",
       "      <th>friends_count</th>\n",
       "      <td>-0.048898</td>\n",
       "      <td>-0.010599</td>\n",
       "      <td>0.066202</td>\n",
       "      <td>0.048482</td>\n",
       "      <td>1.000000</td>\n",
       "      <td>0.028229</td>\n",
       "      <td>-0.029059</td>\n",
       "      <td>0.077872</td>\n",
       "      <td>0.051031</td>\n",
       "      <td>0.059842</td>\n",
       "      <td>0.043834</td>\n",
       "    </tr>\n",
       "    <tr>\n",
       "      <th>geo_enabled</th>\n",
       "      <td>-0.273882</td>\n",
       "      <td>-0.095831</td>\n",
       "      <td>0.135524</td>\n",
       "      <td>0.042550</td>\n",
       "      <td>0.028229</td>\n",
       "      <td>1.000000</td>\n",
       "      <td>-0.248482</td>\n",
       "      <td>0.090194</td>\n",
       "      <td>0.196153</td>\n",
       "      <td>0.057770</td>\n",
       "      <td>0.280077</td>\n",
       "    </tr>\n",
       "    <tr>\n",
       "      <th>id</th>\n",
       "      <td>0.309865</td>\n",
       "      <td>0.014109</td>\n",
       "      <td>-0.049551</td>\n",
       "      <td>-0.059866</td>\n",
       "      <td>-0.029059</td>\n",
       "      <td>-0.248482</td>\n",
       "      <td>1.000000</td>\n",
       "      <td>-0.085926</td>\n",
       "      <td>-0.190823</td>\n",
       "      <td>-0.020600</td>\n",
       "      <td>-0.730932</td>\n",
       "    </tr>\n",
       "    <tr>\n",
       "      <th>statuses_count</th>\n",
       "      <td>-0.131859</td>\n",
       "      <td>-0.027591</td>\n",
       "      <td>0.264001</td>\n",
       "      <td>0.031302</td>\n",
       "      <td>0.077872</td>\n",
       "      <td>0.090194</td>\n",
       "      <td>-0.085926</td>\n",
       "      <td>1.000000</td>\n",
       "      <td>0.079066</td>\n",
       "      <td>0.929172</td>\n",
       "      <td>0.115308</td>\n",
       "    </tr>\n",
       "    <tr>\n",
       "      <th>verified</th>\n",
       "      <td>-0.264979</td>\n",
       "      <td>-0.058531</td>\n",
       "      <td>0.004998</td>\n",
       "      <td>0.273493</td>\n",
       "      <td>0.051031</td>\n",
       "      <td>0.196153</td>\n",
       "      <td>-0.190823</td>\n",
       "      <td>0.079066</td>\n",
       "      <td>1.000000</td>\n",
       "      <td>0.027558</td>\n",
       "      <td>0.350272</td>\n",
       "    </tr>\n",
       "    <tr>\n",
       "      <th>average_tweets_per_day</th>\n",
       "      <td>-0.082269</td>\n",
       "      <td>-0.020461</td>\n",
       "      <td>0.275568</td>\n",
       "      <td>0.010845</td>\n",
       "      <td>0.059842</td>\n",
       "      <td>0.057770</td>\n",
       "      <td>-0.020600</td>\n",
       "      <td>0.929172</td>\n",
       "      <td>0.027558</td>\n",
       "      <td>1.000000</td>\n",
       "      <td>0.009868</td>\n",
       "    </tr>\n",
       "    <tr>\n",
       "      <th>account_age_days</th>\n",
       "      <td>-0.459317</td>\n",
       "      <td>-0.047478</td>\n",
       "      <td>0.024098</td>\n",
       "      <td>0.119114</td>\n",
       "      <td>0.043834</td>\n",
       "      <td>0.280077</td>\n",
       "      <td>-0.730932</td>\n",
       "      <td>0.115308</td>\n",
       "      <td>0.350272</td>\n",
       "      <td>0.009868</td>\n",
       "      <td>1.000000</td>\n",
       "    </tr>\n",
       "  </tbody>\n",
       "</table>\n",
       "</div>"
      ],
      "text/plain": [
       "                        default_profile  default_profile_image  \\\n",
       "default_profile                1.000000               0.115994   \n",
       "default_profile_image          0.115994               1.000000   \n",
       "favorites_count               -0.088897              -0.035908   \n",
       "followers_count               -0.089969              -0.018062   \n",
       "friends_count                 -0.048898              -0.010599   \n",
       "geo_enabled                   -0.273882              -0.095831   \n",
       "id                             0.309865               0.014109   \n",
       "statuses_count                -0.131859              -0.027591   \n",
       "verified                      -0.264979              -0.058531   \n",
       "average_tweets_per_day        -0.082269              -0.020461   \n",
       "account_age_days              -0.459317              -0.047478   \n",
       "\n",
       "                        favorites_count  followers_count  friends_count  \\\n",
       "default_profile               -0.088897        -0.089969      -0.048898   \n",
       "default_profile_image         -0.035908        -0.018062      -0.010599   \n",
       "favorites_count                1.000000        -0.024431       0.066202   \n",
       "followers_count               -0.024431         1.000000       0.048482   \n",
       "friends_count                  0.066202         0.048482       1.000000   \n",
       "geo_enabled                    0.135524         0.042550       0.028229   \n",
       "id                            -0.049551        -0.059866      -0.029059   \n",
       "statuses_count                 0.264001         0.031302       0.077872   \n",
       "verified                       0.004998         0.273493       0.051031   \n",
       "average_tweets_per_day         0.275568         0.010845       0.059842   \n",
       "account_age_days               0.024098         0.119114       0.043834   \n",
       "\n",
       "                        geo_enabled        id  statuses_count  verified  \\\n",
       "default_profile           -0.273882  0.309865       -0.131859 -0.264979   \n",
       "default_profile_image     -0.095831  0.014109       -0.027591 -0.058531   \n",
       "favorites_count            0.135524 -0.049551        0.264001  0.004998   \n",
       "followers_count            0.042550 -0.059866        0.031302  0.273493   \n",
       "friends_count              0.028229 -0.029059        0.077872  0.051031   \n",
       "geo_enabled                1.000000 -0.248482        0.090194  0.196153   \n",
       "id                        -0.248482  1.000000       -0.085926 -0.190823   \n",
       "statuses_count             0.090194 -0.085926        1.000000  0.079066   \n",
       "verified                   0.196153 -0.190823        0.079066  1.000000   \n",
       "average_tweets_per_day     0.057770 -0.020600        0.929172  0.027558   \n",
       "account_age_days           0.280077 -0.730932        0.115308  0.350272   \n",
       "\n",
       "                        average_tweets_per_day  account_age_days  \n",
       "default_profile                      -0.082269         -0.459317  \n",
       "default_profile_image                -0.020461         -0.047478  \n",
       "favorites_count                       0.275568          0.024098  \n",
       "followers_count                       0.010845          0.119114  \n",
       "friends_count                         0.059842          0.043834  \n",
       "geo_enabled                           0.057770          0.280077  \n",
       "id                                   -0.020600         -0.730932  \n",
       "statuses_count                        0.929172          0.115308  \n",
       "verified                              0.027558          0.350272  \n",
       "average_tweets_per_day                1.000000          0.009868  \n",
       "account_age_days                      0.009868          1.000000  "
      ]
     },
     "execution_count": 4,
     "metadata": {},
     "output_type": "execute_result"
    }
   ],
   "source": [
    "#Finding the correlation of features:\n",
    "data.corr()"
   ]
  },
  {
   "cell_type": "code",
   "execution_count": 5,
   "metadata": {
    "pycharm": {
     "name": "#%%\n"
    }
   },
   "outputs": [
    {
     "name": "stdout",
     "output_type": "stream",
     "text": [
      "Location Description: \n",
      " count       37435\n",
      "unique      12047\n",
      "top       unknown\n",
      "freq        13023\n",
      "Name: location, dtype: object \n",
      "\n",
      "Language Description: \n",
      " count     29481\n",
      "unique       48\n",
      "top          en\n",
      "freq      21450\n",
      "Name: lang, dtype: object\n"
     ]
    }
   ],
   "source": [
    "#Getting the details of Language and Location features:\n",
    "print('Location Description: \\n', data['location'].describe(), '\\n')\n",
    "print('Language Description: \\n', data['lang'].describe())"
   ]
  },
  {
   "cell_type": "code",
   "execution_count": 6,
   "metadata": {
    "pycharm": {
     "name": "#%%\n"
    }
   },
   "outputs": [],
   "source": [
    "# Dropping 'Location' Since it has very high 'unknown' values in addition to very high number of unique values, with low correlation with other features.\n",
    "data = data.drop(columns ='location')\n",
    "\n",
    "#Dropping 'Lang' as it has highly biased data with low correlation with other features. And is not logically a valuable feature to determine Human vs Bots.\n",
    "data = data.drop(columns = 'lang')"
   ]
  },
  {
   "cell_type": "code",
   "execution_count": 7,
   "metadata": {
    "pycharm": {
     "name": "#%%\n"
    }
   },
   "outputs": [],
   "source": [
    "# Converting categorical features to numerical values with LabelEncoder from scikit-learn.\n",
    "le = preprocessing.LabelEncoder()\n",
    "dataset = data.apply(le.fit_transform)"
   ]
  },
  {
   "cell_type": "code",
   "execution_count": 8,
   "metadata": {
    "pycharm": {
     "name": "#%%\n"
    }
   },
   "outputs": [
    {
     "name": "stdout",
     "output_type": "stream",
     "text": [
      "<class 'pandas.core.frame.DataFrame'>\n",
      "RangeIndex: 37438 entries, 0 to 37437\n",
      "Data columns (total 12 columns):\n",
      " #   Column                  Non-Null Count  Dtype\n",
      "---  ------                  --------------  -----\n",
      " 0   default_profile         37438 non-null  int64\n",
      " 1   default_profile_image   37438 non-null  int64\n",
      " 2   favorites_count         37438 non-null  int64\n",
      " 3   followers_count         37438 non-null  int64\n",
      " 4   friends_count           37438 non-null  int64\n",
      " 5   geo_enabled             37438 non-null  int64\n",
      " 6   id                      37438 non-null  int64\n",
      " 7   statuses_count          37438 non-null  int64\n",
      " 8   verified                37438 non-null  int64\n",
      " 9   average_tweets_per_day  37438 non-null  int64\n",
      " 10  account_age_days        37438 non-null  int64\n",
      " 11  account_type            37438 non-null  int32\n",
      "dtypes: int32(1), int64(11)\n",
      "memory usage: 3.3 MB\n",
      "None\n",
      "       default_profile  default_profile_image  favorites_count  \\\n",
      "count     37438.000000           37438.000000     37438.000000   \n",
      "mean          0.419894               0.014905      3865.582376   \n",
      "std           0.493548               0.121173      4317.733271   \n",
      "min           0.000000               0.000000         0.000000   \n",
      "25%           0.000000               0.000000       362.000000   \n",
      "50%           0.000000               0.000000      2057.000000   \n",
      "75%           1.000000               0.000000      6443.000000   \n",
      "max           1.000000               1.000000     15003.000000   \n",
      "\n",
      "       followers_count  friends_count   geo_enabled            id  \\\n",
      "count     37438.000000   37438.000000  37438.000000  37438.000000   \n",
      "mean       2532.544180     749.804183      0.456141  18354.734414   \n",
      "std        3795.136767    1116.871705      0.498079  10275.428693   \n",
      "min           0.000000       0.000000      0.000000      0.000000   \n",
      "25%          35.000000      37.000000      0.000000   9359.250000   \n",
      "50%         365.000000     296.000000      0.000000  18718.500000   \n",
      "75%        3942.750000     893.000000      1.000000  28077.750000   \n",
      "max       13209.000000    5300.000000      1.000000  32380.000000   \n",
      "\n",
      "       statuses_count      verified  average_tweets_per_day  account_age_days  \\\n",
      "count    37438.000000  37438.000000            37438.000000      37438.000000   \n",
      "mean      6165.872589      0.201693             3115.844222       2365.253913   \n",
      "std       5691.969006      0.401270             3462.273416       1008.752176   \n",
      "min          0.000000      0.000000                0.000000          0.000000   \n",
      "25%       1315.250000      0.000000              495.000000       1659.250000   \n",
      "50%       4020.000000      0.000000             1484.000000       2562.000000   \n",
      "75%      10432.750000      0.000000             4948.000000       3231.000000   \n",
      "max      19188.000000      1.000000            12635.000000       4155.000000   \n",
      "\n",
      "       account_type  \n",
      "count  37438.000000  \n",
      "mean       0.668118  \n",
      "std        0.470895  \n",
      "min        0.000000  \n",
      "25%        0.000000  \n",
      "50%        1.000000  \n",
      "75%        1.000000  \n",
      "max        1.000000  \n"
     ]
    }
   ],
   "source": [
    "#Transformed Dataset\n",
    "print(dataset.info())\n",
    "print(dataset.describe())"
   ]
  },
  {
   "cell_type": "code",
   "execution_count": 9,
   "metadata": {
    "pycharm": {
     "name": "#%%\n"
    }
   },
   "outputs": [],
   "source": [
    "#Splitting the dataset into Features and Target Variable and applying scaler function from scikit-learn:\n",
    "X = dataset.drop(columns = 'account_type')\n",
    "y = dataset['account_type']\n",
    "scaler = preprocessing.StandardScaler()\n",
    "X_scaled = scaler.fit_transform(X.values)\n",
    "y = dataset['account_type']\n"
   ]
  },
  {
   "cell_type": "code",
   "execution_count": 10,
   "metadata": {
    "pycharm": {
     "name": "#%%\n"
    }
   },
   "outputs": [],
   "source": [
    "#Splitting dataset into Training and Testing sets (80-20 split)\n",
    "X_train, X_test, y_train, y_test = train_test_split(X, y, test_size=0.2, random_state=1, stratify=y, shuffle=True)"
   ]
  },
  {
   "cell_type": "code",
   "execution_count": 11,
   "metadata": {
    "pycharm": {
     "name": "#%%\n"
    }
   },
   "outputs": [
    {
     "name": "stdout",
     "output_type": "stream",
     "text": [
      "Time Elapsed: 59.743908643722534 \n"
     ]
    }
   ],
   "source": [
    "#Performing kNN model  5 fold cross validation:\n",
    "start_time = time.time()\n",
    "k_acc_scores = []\n",
    "k_cv_scores = []\n",
    "k_values = [i for i in range(1,20,2)] #evaluating values of k as all odd numbers between 1 and 20\n",
    "\n",
    "for k in k_values:\n",
    "    knn = KNeighborsClassifier(n_neighbors = k)\n",
    "    knn.fit(X_train,y_train)\n",
    "    pred = knn.predict(X_test)\n",
    "    k_acc_scores.append(\"k({}) = {}\".format(k, accuracy_score(y_test, pred)))\n",
    "    cv_scores = cross_val_score(knn, X_train, y_train, cv=5, scoring='accuracy')\n",
    "    k_cv_scores.append(cv_scores.mean())\n",
    "\n",
    "end_time = time.time()\n",
    "duration = end_time-start_time\n",
    "print(\"Time Elapsed: {} \".format(duration))"
   ]
  },
  {
   "cell_type": "code",
   "execution_count": 12,
   "metadata": {
    "pycharm": {
     "name": "#%%\n"
    }
   },
   "outputs": [
    {
     "name": "stdout",
     "output_type": "stream",
     "text": [
      "k(9) = 0.8410790598290598\n",
      "0.8412020033388983\n",
      "[[1855  630]\n",
      " [ 579 4424]]\n",
      "              precision    recall  f1-score   support\n",
      "\n",
      "           0       0.76      0.75      0.75      2485\n",
      "           1       0.88      0.88      0.88      5003\n",
      "\n",
      "    accuracy                           0.84      7488\n",
      "   macro avg       0.82      0.82      0.82      7488\n",
      "weighted avg       0.84      0.84      0.84      7488\n",
      "\n"
     ]
    }
   ],
   "source": [
    "#Evaluating Performance metrics for kNN Classifier model:\n",
    "print(max(k_acc_scores))\n",
    "print(max(k_cv_scores))\n",
    "print(confusion_matrix(y_test, pred))\n",
    "print(classification_report(y_test, pred))"
   ]
  },
  {
   "cell_type": "code",
   "execution_count": 15,
   "metadata": {
    "pycharm": {
     "is_executing": true,
     "name": "#%%\n"
    }
   },
   "outputs": [
    {
     "name": "stdout",
     "output_type": "stream",
     "text": [
      "Fitting 5 folds for each of 2 candidates, totalling 10 fits\n",
      "[Parallel(n_jobs=-1)]: Using backend LokyBackend with 8 concurrent workers.\n",
      "[Parallel(n_jobs=-1)]: Done   1 tasks      | elapsed:  4.2min\n",
      "[Parallel(n_jobs=-1)]: Done   2 out of  10 | elapsed:  4.3min remaining: 17.3min\n",
      "[Parallel(n_jobs=-1)]: Done   3 out of  10 | elapsed:  4.4min remaining: 10.2min\n",
      "[Parallel(n_jobs=-1)]: Done   4 out of  10 | elapsed:  4.4min remaining:  6.5min\n",
      "[Parallel(n_jobs=-1)]: Done   5 out of  10 | elapsed:  4.4min remaining:  4.4min\n",
      "[Parallel(n_jobs=-1)]: Done   6 out of  10 | elapsed:  4.4min remaining:  2.9min\n",
      "[Parallel(n_jobs=-1)]: Done   7 out of  10 | elapsed:  4.5min remaining:  1.9min\n",
      "[Parallel(n_jobs=-1)]: Done   8 out of  10 | elapsed:  4.5min remaining:  1.1min\n",
      "[Parallel(n_jobs=-1)]: Done  10 out of  10 | elapsed:  6.6min remaining:    0.0s\n",
      "[Parallel(n_jobs=-1)]: Done  10 out of  10 | elapsed:  6.6min finished\n",
      "Time Elapsed: 581.2853815555573 \n"
     ]
    }
   ],
   "source": [
    "#Perfoming SVM model:\n",
    "start_time = time.time()\n",
    "parameters = {'gamma':[1,0.1]}\n",
    "clf = GridSearchCV(svm.SVC(),parameters,cv=5, verbose=100,n_jobs=-1)\n",
    "clf.fit(X_train,y_train)\n",
    "end_time = time.time()\n",
    "duration = end_time - start_time\n",
    "print(\"Time Elapsed: {} \".format(duration))"
   ]
  },
  {
   "cell_type": "code",
   "execution_count": 16,
   "metadata": {
    "pycharm": {
     "is_executing": true,
     "name": "#%%\n"
    }
   },
   "outputs": [
    {
     "name": "stdout",
     "output_type": "stream",
     "text": [
      "[[  91 2394]\n",
      " [   0 5003]]\n",
      "              precision    recall  f1-score   support\n",
      "\n",
      "           0       1.00      0.04      0.07      2485\n",
      "           1       0.68      1.00      0.81      5003\n",
      "\n",
      "    accuracy                           0.68      7488\n",
      "   macro avg       0.84      0.52      0.44      7488\n",
      "weighted avg       0.78      0.68      0.56      7488\n",
      "\n"
     ]
    }
   ],
   "source": [
    "#Evaluating Performance Metrics for SVM model:\n",
    "pred_svm = clf.predict(X_test)\n",
    "print(confusion_matrix(y_test, pred_svm))\n",
    "print(classification_report(y_test, pred_svm))"
   ]
  },
  {
   "cell_type": "code",
   "execution_count": 17,
   "metadata": {
    "pycharm": {
     "is_executing": true,
     "name": "#%%\n"
    }
   },
   "outputs": [],
   "source": [
    "#The kNN model has higher accuracy, precision and recalls compared to those of SVM Model.\n",
    "#Hence, considering these and their computation times, kNN model proves to be better performing for the provided dataset.\n"
   ]
  }
 ],
 "metadata": {
  "kernelspec": {
   "display_name": "Python 3",
   "language": "python",
   "name": "python3"
  },
  "language_info": {
   "codemirror_mode": {
    "name": "ipython",
    "version": 3
   },
   "file_extension": ".py",
   "mimetype": "text/x-python",
   "name": "python",
   "nbconvert_exporter": "python",
   "pygments_lexer": "ipython3",
   "version": "3.6.12"
  }
 },
 "nbformat": 4,
 "nbformat_minor": 1
}
