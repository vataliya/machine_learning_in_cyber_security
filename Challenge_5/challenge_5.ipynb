{
 "cells": [
  {
   "cell_type": "markdown",
   "metadata": {
    "id": "1sl44-_F0aKw"
   },
   "source": [
    "Challenge 5: KMeans and DBSCAN Clustering Algorithms"
   ]
  },
  {
   "cell_type": "code",
   "execution_count": 1,
   "metadata": {
    "colab": {
     "base_uri": "https://localhost:8080/"
    },
    "id": "Ps6I1ztqYOqL",
    "outputId": "05e8a774-b0f5-4486-aca8-1434a1798c88"
   },
   "outputs": [],
   "source": [
    "#Import Required Libraries\n",
    "import time\n",
    "import pandas as pd\n",
    "import numpy as np\n",
    "import seaborn\n",
    "import matplotlib.pyplot as plt\n",
    "import matplotlib.cm as cm\n",
    "%matplotlib inline\n",
    "\n",
    "from sklearn import preprocessing\n",
    "from sklearn.model_selection import GridSearchCV\n",
    "from sklearn.cluster import KMeans, DBSCAN\n",
    "from sklearn.metrics import silhouette_samples, silhouette_score"
   ]
  },
  {
   "cell_type": "code",
   "execution_count": 2,
   "metadata": {
    "colab": {
     "base_uri": "https://localhost:8080/"
    },
    "id": "Ps6I1ztqYOqL",
    "outputId": "05e8a774-b0f5-4486-aca8-1434a1798c88"
   },
   "outputs": [],
   "source": [
    "# from google.colab import drive\n",
    "# drive.mount('/content/drive')"
   ]
  },
  {
   "cell_type": "code",
   "execution_count": 3,
   "metadata": {
    "colab": {
     "base_uri": "https://localhost:8080/"
    },
    "id": "FUM9v6MsY00p",
    "outputId": "a3273d64-b4a7-43a7-d323-6d779d038434"
   },
   "outputs": [],
   "source": [
    "# cd drive/My\\ Drive/Colab\\ Notebooks/"
   ]
  },
  {
   "cell_type": "code",
   "execution_count": 4,
   "metadata": {
    "colab": {
     "base_uri": "https://localhost:8080/",
     "height": 196
    },
    "id": "zzkGEl3kYOqU",
    "outputId": "71ee3f68-43a7-44b8-be5d-d360281d68a7"
   },
   "outputs": [
    {
     "data": {
      "text/html": [
       "<div>\n",
       "<style scoped>\n",
       "    .dataframe tbody tr th:only-of-type {\n",
       "        vertical-align: middle;\n",
       "    }\n",
       "\n",
       "    .dataframe tbody tr th {\n",
       "        vertical-align: top;\n",
       "    }\n",
       "\n",
       "    .dataframe thead th {\n",
       "        text-align: right;\n",
       "    }\n",
       "</style>\n",
       "<table border=\"1\" class=\"dataframe\">\n",
       "  <thead>\n",
       "    <tr style=\"text-align: right;\">\n",
       "      <th></th>\n",
       "      <th>host</th>\n",
       "      <th>src</th>\n",
       "      <th>proto</th>\n",
       "      <th>spt</th>\n",
       "      <th>dpt</th>\n",
       "      <th>srcstr</th>\n",
       "      <th>country</th>\n",
       "      <th>locale</th>\n",
       "      <th>postalcode</th>\n",
       "      <th>latitude</th>\n",
       "      <th>longitude</th>\n",
       "    </tr>\n",
       "  </thead>\n",
       "  <tbody>\n",
       "    <tr>\n",
       "      <th>0</th>\n",
       "      <td>groucho-oregon</td>\n",
       "      <td>1032051418</td>\n",
       "      <td>TCP</td>\n",
       "      <td>6000.0</td>\n",
       "      <td>1433.0</td>\n",
       "      <td>61.131.218.218</td>\n",
       "      <td>China</td>\n",
       "      <td>Jiangxi Sheng</td>\n",
       "      <td>NaN</td>\n",
       "      <td>28.5500</td>\n",
       "      <td>115.9333</td>\n",
       "    </tr>\n",
       "    <tr>\n",
       "      <th>1</th>\n",
       "      <td>groucho-oregon</td>\n",
       "      <td>1347834426</td>\n",
       "      <td>UDP</td>\n",
       "      <td>5270.0</td>\n",
       "      <td>5060.0</td>\n",
       "      <td>80.86.82.58</td>\n",
       "      <td>Germany</td>\n",
       "      <td>NaN</td>\n",
       "      <td>NaN</td>\n",
       "      <td>51.0000</td>\n",
       "      <td>9.0000</td>\n",
       "    </tr>\n",
       "    <tr>\n",
       "      <th>2</th>\n",
       "      <td>groucho-oregon</td>\n",
       "      <td>2947856490</td>\n",
       "      <td>TCP</td>\n",
       "      <td>2489.0</td>\n",
       "      <td>1080.0</td>\n",
       "      <td>175.180.184.106</td>\n",
       "      <td>Taiwan</td>\n",
       "      <td>Taipei</td>\n",
       "      <td>NaN</td>\n",
       "      <td>25.0392</td>\n",
       "      <td>121.5250</td>\n",
       "    </tr>\n",
       "    <tr>\n",
       "      <th>3</th>\n",
       "      <td>groucho-us-east</td>\n",
       "      <td>841842716</td>\n",
       "      <td>UDP</td>\n",
       "      <td>43235.0</td>\n",
       "      <td>1900.0</td>\n",
       "      <td>50.45.128.28</td>\n",
       "      <td>United States</td>\n",
       "      <td>Oregon</td>\n",
       "      <td>97124</td>\n",
       "      <td>45.5848</td>\n",
       "      <td>-122.9117</td>\n",
       "    </tr>\n",
       "    <tr>\n",
       "      <th>4</th>\n",
       "      <td>groucho-singapore</td>\n",
       "      <td>3587648279</td>\n",
       "      <td>TCP</td>\n",
       "      <td>56577.0</td>\n",
       "      <td>80.0</td>\n",
       "      <td>213.215.43.23</td>\n",
       "      <td>France</td>\n",
       "      <td>NaN</td>\n",
       "      <td>NaN</td>\n",
       "      <td>48.8600</td>\n",
       "      <td>2.3500</td>\n",
       "    </tr>\n",
       "  </tbody>\n",
       "</table>\n",
       "</div>"
      ],
      "text/plain": [
       "                host         src proto      spt     dpt           srcstr  \\\n",
       "0     groucho-oregon  1032051418   TCP   6000.0  1433.0   61.131.218.218   \n",
       "1     groucho-oregon  1347834426   UDP   5270.0  5060.0      80.86.82.58   \n",
       "2     groucho-oregon  2947856490   TCP   2489.0  1080.0  175.180.184.106   \n",
       "3    groucho-us-east   841842716   UDP  43235.0  1900.0     50.45.128.28   \n",
       "4  groucho-singapore  3587648279   TCP  56577.0    80.0    213.215.43.23   \n",
       "\n",
       "         country         locale postalcode  latitude  longitude  \n",
       "0          China  Jiangxi Sheng        NaN   28.5500   115.9333  \n",
       "1        Germany            NaN        NaN   51.0000     9.0000  \n",
       "2         Taiwan         Taipei        NaN   25.0392   121.5250  \n",
       "3  United States         Oregon      97124   45.5848  -122.9117  \n",
       "4         France            NaN        NaN   48.8600     2.3500  "
      ]
     },
     "execution_count": 4,
     "metadata": {},
     "output_type": "execute_result"
    }
   ],
   "source": [
    "aws = pd.read_csv(r'aws_honeypot_geo.csv')\n",
    "aws.head()"
   ]
  },
  {
   "cell_type": "code",
   "execution_count": 5,
   "metadata": {
    "colab": {
     "base_uri": "https://localhost:8080/"
    },
    "id": "0m9OpPwLYOqb",
    "outputId": "1ff78b02-fb88-48be-b441-c080ab3e461c"
   },
   "outputs": [
    {
     "name": "stdout",
     "output_type": "stream",
     "text": [
      "<class 'pandas.core.frame.DataFrame'>\n",
      "RangeIndex: 451581 entries, 0 to 451580\n",
      "Data columns (total 11 columns):\n",
      " #   Column      Non-Null Count   Dtype  \n",
      "---  ------      --------------   -----  \n",
      " 0   host        451581 non-null  object \n",
      " 1   src         451581 non-null  int64  \n",
      " 2   proto       451581 non-null  object \n",
      " 3   spt         406770 non-null  float64\n",
      " 4   dpt         406770 non-null  float64\n",
      " 5   srcstr      451581 non-null  object \n",
      " 6   country     447947 non-null  object \n",
      " 7   locale      342112 non-null  object \n",
      " 8   postalcode  86478 non-null   object \n",
      " 9   latitude    448112 non-null  float64\n",
      " 10  longitude   448153 non-null  float64\n",
      "dtypes: float64(4), int64(1), object(6)\n",
      "memory usage: 37.9+ MB\n"
     ]
    }
   ],
   "source": [
    "aws.info()"
   ]
  },
  {
   "cell_type": "markdown",
   "metadata": {
    "id": "jjdImCkV01b5"
   },
   "source": [
    "As we can see in the above summary, the Postalcode feature has about 80% of its values as NaNs. Hence, we will drop this column from the dataset."
   ]
  },
  {
   "cell_type": "code",
   "execution_count": 6,
   "metadata": {
    "colab": {
     "base_uri": "https://localhost:8080/",
     "height": 196
    },
    "id": "JBsc4TK_YOq6",
    "outputId": "1547dc9d-973d-4d65-a71a-c62e215babd4"
   },
   "outputs": [
    {
     "data": {
      "text/html": [
       "<div>\n",
       "<style scoped>\n",
       "    .dataframe tbody tr th:only-of-type {\n",
       "        vertical-align: middle;\n",
       "    }\n",
       "\n",
       "    .dataframe tbody tr th {\n",
       "        vertical-align: top;\n",
       "    }\n",
       "\n",
       "    .dataframe thead th {\n",
       "        text-align: right;\n",
       "    }\n",
       "</style>\n",
       "<table border=\"1\" class=\"dataframe\">\n",
       "  <thead>\n",
       "    <tr style=\"text-align: right;\">\n",
       "      <th></th>\n",
       "      <th>host</th>\n",
       "      <th>src</th>\n",
       "      <th>proto</th>\n",
       "      <th>spt</th>\n",
       "      <th>dpt</th>\n",
       "      <th>srcstr</th>\n",
       "      <th>country</th>\n",
       "      <th>locale</th>\n",
       "      <th>latitude</th>\n",
       "      <th>longitude</th>\n",
       "    </tr>\n",
       "  </thead>\n",
       "  <tbody>\n",
       "    <tr>\n",
       "      <th>0</th>\n",
       "      <td>groucho-oregon</td>\n",
       "      <td>1032051418</td>\n",
       "      <td>TCP</td>\n",
       "      <td>6000.0</td>\n",
       "      <td>1433.0</td>\n",
       "      <td>61.131.218.218</td>\n",
       "      <td>China</td>\n",
       "      <td>Jiangxi Sheng</td>\n",
       "      <td>28.5500</td>\n",
       "      <td>115.9333</td>\n",
       "    </tr>\n",
       "    <tr>\n",
       "      <th>1</th>\n",
       "      <td>groucho-oregon</td>\n",
       "      <td>1347834426</td>\n",
       "      <td>UDP</td>\n",
       "      <td>5270.0</td>\n",
       "      <td>5060.0</td>\n",
       "      <td>80.86.82.58</td>\n",
       "      <td>Germany</td>\n",
       "      <td>NaN</td>\n",
       "      <td>51.0000</td>\n",
       "      <td>9.0000</td>\n",
       "    </tr>\n",
       "    <tr>\n",
       "      <th>2</th>\n",
       "      <td>groucho-oregon</td>\n",
       "      <td>2947856490</td>\n",
       "      <td>TCP</td>\n",
       "      <td>2489.0</td>\n",
       "      <td>1080.0</td>\n",
       "      <td>175.180.184.106</td>\n",
       "      <td>Taiwan</td>\n",
       "      <td>Taipei</td>\n",
       "      <td>25.0392</td>\n",
       "      <td>121.5250</td>\n",
       "    </tr>\n",
       "    <tr>\n",
       "      <th>3</th>\n",
       "      <td>groucho-us-east</td>\n",
       "      <td>841842716</td>\n",
       "      <td>UDP</td>\n",
       "      <td>43235.0</td>\n",
       "      <td>1900.0</td>\n",
       "      <td>50.45.128.28</td>\n",
       "      <td>United States</td>\n",
       "      <td>Oregon</td>\n",
       "      <td>45.5848</td>\n",
       "      <td>-122.9117</td>\n",
       "    </tr>\n",
       "    <tr>\n",
       "      <th>4</th>\n",
       "      <td>groucho-singapore</td>\n",
       "      <td>3587648279</td>\n",
       "      <td>TCP</td>\n",
       "      <td>56577.0</td>\n",
       "      <td>80.0</td>\n",
       "      <td>213.215.43.23</td>\n",
       "      <td>France</td>\n",
       "      <td>NaN</td>\n",
       "      <td>48.8600</td>\n",
       "      <td>2.3500</td>\n",
       "    </tr>\n",
       "  </tbody>\n",
       "</table>\n",
       "</div>"
      ],
      "text/plain": [
       "                host         src proto      spt     dpt           srcstr  \\\n",
       "0     groucho-oregon  1032051418   TCP   6000.0  1433.0   61.131.218.218   \n",
       "1     groucho-oregon  1347834426   UDP   5270.0  5060.0      80.86.82.58   \n",
       "2     groucho-oregon  2947856490   TCP   2489.0  1080.0  175.180.184.106   \n",
       "3    groucho-us-east   841842716   UDP  43235.0  1900.0     50.45.128.28   \n",
       "4  groucho-singapore  3587648279   TCP  56577.0    80.0    213.215.43.23   \n",
       "\n",
       "         country         locale  latitude  longitude  \n",
       "0          China  Jiangxi Sheng   28.5500   115.9333  \n",
       "1        Germany            NaN   51.0000     9.0000  \n",
       "2         Taiwan         Taipei   25.0392   121.5250  \n",
       "3  United States         Oregon   45.5848  -122.9117  \n",
       "4         France            NaN   48.8600     2.3500  "
      ]
     },
     "execution_count": 6,
     "metadata": {},
     "output_type": "execute_result"
    }
   ],
   "source": [
    "aws = aws.drop(columns=['postalcode'])\n",
    "aws.head()"
   ]
  },
  {
   "cell_type": "markdown",
   "metadata": {
    "id": "3najOk2L0_n0"
   },
   "source": [
    "In the dataset, for **Proto = ICMP**, the Source and Destination Port Features do not contain any data. Hence, to improve the performance of the models, remove all the ICMP records. \\\n",
    "And we will only consider records that are not **NaN** in Country and then subsequently, Latitude and Longitude columns."
   ]
  },
  {
   "cell_type": "code",
   "execution_count": 7,
   "metadata": {
    "colab": {
     "base_uri": "https://localhost:8080/",
     "height": 404
    },
    "id": "H9x7MAFl2b8d",
    "outputId": "93368546-461a-4da0-9818-527dd2be551f"
   },
   "outputs": [
    {
     "data": {
      "text/html": [
       "<div>\n",
       "<style scoped>\n",
       "    .dataframe tbody tr th:only-of-type {\n",
       "        vertical-align: middle;\n",
       "    }\n",
       "\n",
       "    .dataframe tbody tr th {\n",
       "        vertical-align: top;\n",
       "    }\n",
       "\n",
       "    .dataframe thead th {\n",
       "        text-align: right;\n",
       "    }\n",
       "</style>\n",
       "<table border=\"1\" class=\"dataframe\">\n",
       "  <thead>\n",
       "    <tr style=\"text-align: right;\">\n",
       "      <th></th>\n",
       "      <th>host</th>\n",
       "      <th>src</th>\n",
       "      <th>proto</th>\n",
       "      <th>spt</th>\n",
       "      <th>dpt</th>\n",
       "      <th>srcstr</th>\n",
       "      <th>country</th>\n",
       "      <th>locale</th>\n",
       "      <th>latitude</th>\n",
       "      <th>longitude</th>\n",
       "    </tr>\n",
       "  </thead>\n",
       "  <tbody>\n",
       "    <tr>\n",
       "      <th>51</th>\n",
       "      <td>groucho-eu</td>\n",
       "      <td>2148114514</td>\n",
       "      <td>ICMP</td>\n",
       "      <td>NaN</td>\n",
       "      <td>NaN</td>\n",
       "      <td>128.9.160.82</td>\n",
       "      <td>United States</td>\n",
       "      <td>California</td>\n",
       "      <td>33.9777</td>\n",
       "      <td>-118.4351</td>\n",
       "    </tr>\n",
       "    <tr>\n",
       "      <th>52</th>\n",
       "      <td>groucho-eu</td>\n",
       "      <td>2148114514</td>\n",
       "      <td>ICMP</td>\n",
       "      <td>NaN</td>\n",
       "      <td>NaN</td>\n",
       "      <td>128.9.160.82</td>\n",
       "      <td>United States</td>\n",
       "      <td>California</td>\n",
       "      <td>33.9777</td>\n",
       "      <td>-118.4351</td>\n",
       "    </tr>\n",
       "    <tr>\n",
       "      <th>59</th>\n",
       "      <td>groucho-singapore</td>\n",
       "      <td>782615554</td>\n",
       "      <td>ICMP</td>\n",
       "      <td>NaN</td>\n",
       "      <td>NaN</td>\n",
       "      <td>46.165.196.2</td>\n",
       "      <td>Germany</td>\n",
       "      <td>NaN</td>\n",
       "      <td>51.0000</td>\n",
       "      <td>9.0000</td>\n",
       "    </tr>\n",
       "    <tr>\n",
       "      <th>148</th>\n",
       "      <td>groucho-oregon</td>\n",
       "      <td>249236627</td>\n",
       "      <td>ICMP</td>\n",
       "      <td>NaN</td>\n",
       "      <td>NaN</td>\n",
       "      <td>14.219.12.147</td>\n",
       "      <td>China</td>\n",
       "      <td>Guangdong</td>\n",
       "      <td>23.1167</td>\n",
       "      <td>113.2500</td>\n",
       "    </tr>\n",
       "    <tr>\n",
       "      <th>149</th>\n",
       "      <td>groucho-oregon</td>\n",
       "      <td>249236627</td>\n",
       "      <td>ICMP</td>\n",
       "      <td>NaN</td>\n",
       "      <td>NaN</td>\n",
       "      <td>14.219.12.147</td>\n",
       "      <td>China</td>\n",
       "      <td>Guangdong</td>\n",
       "      <td>23.1167</td>\n",
       "      <td>113.2500</td>\n",
       "    </tr>\n",
       "    <tr>\n",
       "      <th>...</th>\n",
       "      <td>...</td>\n",
       "      <td>...</td>\n",
       "      <td>...</td>\n",
       "      <td>...</td>\n",
       "      <td>...</td>\n",
       "      <td>...</td>\n",
       "      <td>...</td>\n",
       "      <td>...</td>\n",
       "      <td>...</td>\n",
       "      <td>...</td>\n",
       "    </tr>\n",
       "    <tr>\n",
       "      <th>451531</th>\n",
       "      <td>groucho-singapore</td>\n",
       "      <td>2148116578</td>\n",
       "      <td>ICMP</td>\n",
       "      <td>NaN</td>\n",
       "      <td>NaN</td>\n",
       "      <td>128.9.168.98</td>\n",
       "      <td>United States</td>\n",
       "      <td>California</td>\n",
       "      <td>33.9777</td>\n",
       "      <td>-118.4351</td>\n",
       "    </tr>\n",
       "    <tr>\n",
       "      <th>451536</th>\n",
       "      <td>groucho-sa</td>\n",
       "      <td>3093246218</td>\n",
       "      <td>ICMP</td>\n",
       "      <td>NaN</td>\n",
       "      <td>NaN</td>\n",
       "      <td>184.95.49.10</td>\n",
       "      <td>United States</td>\n",
       "      <td>Arizona</td>\n",
       "      <td>33.4357</td>\n",
       "      <td>-111.9171</td>\n",
       "    </tr>\n",
       "    <tr>\n",
       "      <th>451562</th>\n",
       "      <td>groucho-sa</td>\n",
       "      <td>3233452889</td>\n",
       "      <td>ICMP</td>\n",
       "      <td>NaN</td>\n",
       "      <td>NaN</td>\n",
       "      <td>192.186.147.89</td>\n",
       "      <td>Canada</td>\n",
       "      <td>Ontario</td>\n",
       "      <td>43.6525</td>\n",
       "      <td>-79.3686</td>\n",
       "    </tr>\n",
       "    <tr>\n",
       "      <th>451571</th>\n",
       "      <td>groucho-tokyo</td>\n",
       "      <td>2169670188</td>\n",
       "      <td>ICMP</td>\n",
       "      <td>NaN</td>\n",
       "      <td>NaN</td>\n",
       "      <td>129.82.138.44</td>\n",
       "      <td>United States</td>\n",
       "      <td>Colorado</td>\n",
       "      <td>40.4555</td>\n",
       "      <td>-105.4648</td>\n",
       "    </tr>\n",
       "    <tr>\n",
       "      <th>451572</th>\n",
       "      <td>groucho-tokyo</td>\n",
       "      <td>2169670188</td>\n",
       "      <td>ICMP</td>\n",
       "      <td>NaN</td>\n",
       "      <td>NaN</td>\n",
       "      <td>129.82.138.44</td>\n",
       "      <td>United States</td>\n",
       "      <td>Colorado</td>\n",
       "      <td>40.4555</td>\n",
       "      <td>-105.4648</td>\n",
       "    </tr>\n",
       "  </tbody>\n",
       "</table>\n",
       "<p>44811 rows × 10 columns</p>\n",
       "</div>"
      ],
      "text/plain": [
       "                     host         src proto  spt  dpt          srcstr  \\\n",
       "51             groucho-eu  2148114514  ICMP  NaN  NaN    128.9.160.82   \n",
       "52             groucho-eu  2148114514  ICMP  NaN  NaN    128.9.160.82   \n",
       "59      groucho-singapore   782615554  ICMP  NaN  NaN    46.165.196.2   \n",
       "148        groucho-oregon   249236627  ICMP  NaN  NaN   14.219.12.147   \n",
       "149        groucho-oregon   249236627  ICMP  NaN  NaN   14.219.12.147   \n",
       "...                   ...         ...   ...  ...  ...             ...   \n",
       "451531  groucho-singapore  2148116578  ICMP  NaN  NaN    128.9.168.98   \n",
       "451536         groucho-sa  3093246218  ICMP  NaN  NaN    184.95.49.10   \n",
       "451562         groucho-sa  3233452889  ICMP  NaN  NaN  192.186.147.89   \n",
       "451571      groucho-tokyo  2169670188  ICMP  NaN  NaN   129.82.138.44   \n",
       "451572      groucho-tokyo  2169670188  ICMP  NaN  NaN   129.82.138.44   \n",
       "\n",
       "              country      locale  latitude  longitude  \n",
       "51      United States  California   33.9777  -118.4351  \n",
       "52      United States  California   33.9777  -118.4351  \n",
       "59            Germany         NaN   51.0000     9.0000  \n",
       "148             China   Guangdong   23.1167   113.2500  \n",
       "149             China   Guangdong   23.1167   113.2500  \n",
       "...               ...         ...       ...        ...  \n",
       "451531  United States  California   33.9777  -118.4351  \n",
       "451536  United States     Arizona   33.4357  -111.9171  \n",
       "451562         Canada     Ontario   43.6525   -79.3686  \n",
       "451571  United States    Colorado   40.4555  -105.4648  \n",
       "451572  United States    Colorado   40.4555  -105.4648  \n",
       "\n",
       "[44811 rows x 10 columns]"
      ]
     },
     "execution_count": 7,
     "metadata": {},
     "output_type": "execute_result"
    }
   ],
   "source": [
    "aws.loc[aws['proto']=='ICMP']"
   ]
  },
  {
   "cell_type": "code",
   "execution_count": 8,
   "metadata": {
    "id": "ql0_G19_YOrL"
   },
   "outputs": [],
   "source": [
    "aws.drop(aws.loc[aws['proto'] == 'ICMP' ].index, inplace = True)\n",
    "aws = aws[aws['country'].notna()]\n",
    "aws = aws[aws['latitude'].notna()]"
   ]
  },
  {
   "cell_type": "code",
   "execution_count": 9,
   "metadata": {
    "colab": {
     "base_uri": "https://localhost:8080/"
    },
    "id": "agel-u0OYOrj",
    "outputId": "b8410abd-ecea-4c1d-ddd9-184750e41379"
   },
   "outputs": [
    {
     "name": "stdout",
     "output_type": "stream",
     "text": [
      " Unique Values in host = 9 \n",
      " Unique Values in src = 64363 \n",
      " Unique Values in proto = 2 \n",
      " Unique Values in spt = 46025 \n",
      " Unique Values in dpt = 4030 \n",
      " Unique Values in srcstr = 64363 \n",
      " Unique Values in country = 177 \n",
      " Unique Values in locale = 1153 \n",
      " Unique Values in latitude = 4902 \n",
      " Unique Values in longitude = 5065 \n",
      "\n",
      "    host         src  proto    spt  dpt  srcstr  country  locale  latitude  \\\n",
      "0     2  1032051418      0   4994  542   52433       36     380      1037   \n",
      "1     2  1347834426      1   4548  994   58024       57       0      4287   \n",
      "2     2  2947856490      0   1810  189   22424      157     996       880   \n",
      "3     7   841842716      1  27792  640   49070      169     663      3659   \n",
      "4     4  3587648279      0  39045   26   37662       54       0      4017   \n",
      "\n",
      "   longitude  \n",
      "0       4714  \n",
      "1       3065  \n",
      "2       4810  \n",
      "3         49  \n",
      "4       2731  \n"
     ]
    }
   ],
   "source": [
    "columns = aws.columns.tolist()\n",
    "le = preprocessing.LabelEncoder()\n",
    "for column in columns:\n",
    "  aws[column]= aws[column].fillna('0')\n",
    "  print(' Unique Values in {x} = {length} '.format(x=column,length=len(aws[column].unique())))\n",
    "  if column!='src':\n",
    "    aws[column] = le.fit_transform(aws[column])\n",
    "\n",
    "print('\\n', aws.head())"
   ]
  },
  {
   "cell_type": "markdown",
   "metadata": {
    "id": "MbPj42ho3AfM"
   },
   "source": [
    "Implementing **KMeans** Clustering algorithm with number of clusters ranging from 2 to 6 and evaluating the model with **Silhouette Analysis**."
   ]
  },
  {
   "cell_type": "code",
   "execution_count": 10,
   "metadata": {
    "colab": {
     "base_uri": "https://localhost:8080/",
     "height": 412
    },
    "id": "x79xKZQUOl37",
    "outputId": "0fa3b52d-e75c-4a79-cc61-2b25f58845e9"
   },
   "outputs": [],
   "source": [
    "range_n_clusters = range(2,7)\n",
    "silhouette_scores = []\n",
    "labels_list = []\n",
    "X = aws.iloc[:,:].values"
   ]
  },
  {
   "cell_type": "code",
   "execution_count": null,
   "metadata": {
    "colab": {
     "base_uri": "https://localhost:8080/",
     "height": 412
    },
    "id": "x79xKZQUOl37",
    "outputId": "0fa3b52d-e75c-4a79-cc61-2b25f58845e9"
   },
   "outputs": [
    {
     "name": "stdout",
     "output_type": "stream",
     "text": [
      "For n_clusters = 2 the average silhouette_score is : 0.6936645911905341 with execution time : 1773.3056440353394\n"
     ]
    }
   ],
   "source": [
    "# Initialize the clusterer with n_clusters value:\n",
    "for n_clusters in range_n_clusters:\n",
    "    start = time.time()\n",
    "    clusterer = KMeans(n_clusters=n_clusters, random_state=10).fit(aws)\n",
    "    cluster_labels = clusterer.labels_\n",
    "    labels_list.append(cluster_labels)\n",
    "\n",
    "    # The silhouette_score gives the average value for all the samples.\n",
    "    silhouette_avg = silhouette_score(X, cluster_labels)\n",
    "    silhouette_scores.append(silhouette_avg)\n",
    "    end = time.time()\n",
    "    duration = end-start\n",
    "    print(\"For n_clusters = {x} the average silhouette_score is : {y} with execution time : {z}\".format(x=n_clusters,\n",
    "                                                                                                        y=silhouette_avg,\n",
    "                                                                                                        z = duration))"
   ]
  },
  {
   "cell_type": "code",
   "execution_count": null,
   "metadata": {
    "colab": {
     "base_uri": "https://localhost:8080/",
     "height": 412
    },
    "id": "x79xKZQUOl37",
    "outputId": "0fa3b52d-e75c-4a79-cc61-2b25f58845e9"
   },
   "outputs": [],
   "source": [
    "# Plot the elbow graph\n",
    "plt.plot(range_n_clusters,silhouette_scores)\n",
    "plt.title('The Elbow Method Graph')\n",
    "plt.xlabel('Number of clusters')\n",
    "plt.ylabel('Silhouette Scores')\n",
    "plt.show()\n",
    "\n",
    "# Get the max silhouette score and the corresponding value of k clusters:\n",
    "max_score = max(silhouette_scores)\n",
    "n_clusters = silhouette_scores.index(max_score) + 2\n",
    "print('\\n The maximum silhouette score is observed at k = {x} with score = {y} '.format(x=n_clusters,y=max_score))"
   ]
  },
  {
   "cell_type": "markdown",
   "metadata": {
    "id": "EzcrawTc3oVa"
   },
   "source": [
    "Plotting the Silhouette Analysis and Clusters for k with maximum silhouette score:"
   ]
  },
  {
   "cell_type": "code",
   "execution_count": null,
   "metadata": {
    "id": "3r1JF2LdtLLx"
   },
   "outputs": [],
   "source": [
    "# Training the model again:\n",
    "clusterer = KMeans(n_clusters=n_clusters, random_state=10).fit(aws)\n",
    "cluster_labels = clusterer.labels_\n",
    "X = aws.iloc[:,:].values\n",
    "\n",
    "# The silhouette_score gives the average value for all the samples.\n",
    "silhouette_avg = silhouette_score(X, cluster_labels)"
   ]
  },
  {
   "cell_type": "code",
   "execution_count": null,
   "metadata": {
    "colab": {
     "base_uri": "https://localhost:8080/",
     "height": 510
    },
    "id": "ajRE5hDEUq2E",
    "outputId": "ea11a09f-af6f-40bd-e1aa-0dcd65305375"
   },
   "outputs": [],
   "source": [
    "# Create a subplot with 1 row and 2 columns\n",
    "fig, (ax1, ax2) = plt.subplots(1, 2)\n",
    "fig.set_size_inches(18, 7)\n",
    "\n",
    "# The 1st subplot is the silhouette plot\n",
    "# The silhouette coefficient can range from -1, 1 but in this example all\n",
    "# lie within [-0.1, 1]\n",
    "ax1.set_xlim([-0.1, 1])\n",
    "# The (n_clusters+1)*10 is for inserting blank space between silhouette\n",
    "# plots of individual clusters, to demarcate them clearly.\n",
    "ax1.set_ylim([0, len(X) + (n_clusters + 1) * 10])\n",
    "\n",
    "# Compute the silhouette scores for each sample\n",
    "sample_silhouette_values = silhouette_samples(X, cluster_labels)\n",
    "    \n",
    "y_lower = 10\n",
    "for i in range(n_clusters):\n",
    "    # Aggregate the silhouette scores for samples belonging to\n",
    "    # cluster i, and sort them\n",
    "    ith_cluster_silhouette_values = \\\n",
    "            sample_silhouette_values[cluster_labels == i]\n",
    "\n",
    "    ith_cluster_silhouette_values.sort()\n",
    "\n",
    "    size_cluster_i = ith_cluster_silhouette_values.shape[0]\n",
    "    y_upper = y_lower + size_cluster_i\n",
    "\n",
    "    color = cm.nipy_spectral(float(i) / n_clusters)\n",
    "    ax1.fill_betweenx(np.arange(y_lower, y_upper),\n",
    "                          0, ith_cluster_silhouette_values,\n",
    "                          facecolor=color, edgecolor=color, alpha=0.7)\n",
    "\n",
    "    # Label the silhouette plots with their cluster numbers at the middle\n",
    "    ax1.text(-0.05, y_lower + 0.5 * size_cluster_i, str(i))\n",
    "\n",
    "    # Compute the new y_lower for next plot\n",
    "    y_lower = y_upper + 10  # 10 for the 0 samples\n",
    "\n",
    "ax1.set_title(\"The silhouette plot for the various clusters.\")\n",
    "ax1.set_xlabel(\"The silhouette coefficient values\")\n",
    "ax1.set_ylabel(\"Cluster label\")\n",
    "\n",
    "# The vertical line for average silhouette score of all the values\n",
    "ax1.axvline(x=silhouette_avg, color=\"red\", linestyle=\"--\")\n",
    "\n",
    "ax1.set_yticks([])  # Clear the yaxis labels / ticks\n",
    "ax1.set_xticks([-0.1, 0, 0.2, 0.4, 0.6, 0.8, 1])\n",
    "\n",
    "# 2nd Plot showing the actual clusters formed\n",
    "colors = cm.nipy_spectral(cluster_labels.astype(float) / n_clusters)\n",
    "ax2.scatter(X[:, 8], X[:, 9], marker='.', s=30, lw=0, alpha=0.7,\n",
    "                c=colors, edgecolor='k')\n",
    "\n",
    "# Labeling the clusters\n",
    "centers = clusterer.cluster_centers_\n",
    "# Draw white circles at cluster centers\n",
    "ax2.scatter(centers[:, 8], centers[:, 9], marker='o',\n",
    "                c=\"white\", alpha=1, s=200, edgecolor='k')\n",
    "\n",
    "for i, c in enumerate(centers):\n",
    "    ax2.scatter(c[8], c[9], marker='$%d$' % i, alpha=1,\n",
    "                    s=50, edgecolor='k')\n",
    "\n",
    "ax2.set_title(\"The visualization of the clustered data.\")\n",
    "ax2.set_xlabel(\"Feature space for the 1st feature\")\n",
    "ax2.set_ylabel(\"Feature space for the 2nd feature\")\n",
    "\n",
    "plt.suptitle((\"Silhouette analysis for KMeans clustering on sample data \"\n",
    "                  \"with n_clusters = %d\" % n_clusters),\n",
    "                 fontsize=14, fontweight='bold')"
   ]
  },
  {
   "cell_type": "markdown",
   "metadata": {
    "id": "Cdt-hYbd0RK8"
   },
   "source": [
    "Implementing **DBSCAN** Clustering algorithm with **Eps= 0.4** and **Min Sample = 10**\n"
   ]
  },
  {
   "cell_type": "code",
   "execution_count": null,
   "metadata": {
    "colab": {
     "base_uri": "https://localhost:8080/",
     "height": 297
    },
    "id": "Nm3oIe3GNNdc",
    "outputId": "b90a16a9-add5-4975-8458-651ad03f38b4"
   },
   "outputs": [],
   "source": [
    "start = time.time()\n",
    "clustering = DBSCAN(eps=0.4, min_samples=10).fit(aws)\n",
    "end = time.time()\n",
    "duration = end-start\n",
    "print('Time Elapsed: {x} seconds'.format(x=duration))\n",
    "labels = clustering.labels_\n",
    "X = aws.iloc[:,:].values\n",
    "n_clusters_ = len(set(labels)) - (1 if -1 in labels else 0)\n",
    "n_noise_ = list(labels).count(-1)\n",
    "print('Number of Cluster:',n_clusters_,' and Noise:', n_noise_)"
   ]
  },
  {
   "cell_type": "code",
   "execution_count": null,
   "metadata": {
    "colab": {
     "base_uri": "https://localhost:8080/",
     "height": 297
    },
    "id": "Nm3oIe3GNNdc",
    "outputId": "b90a16a9-add5-4975-8458-651ad03f38b4"
   },
   "outputs": [],
   "source": [
    "# Plotting the DBSCAN Clusters:\n",
    "unique_labels = set(labels)\n",
    "colors = [plt.cm.Spectral(each)\n",
    "          for each in np.linspace(0, 1, len(unique_labels))]\n",
    "core_samples_mask = np.zeros_like(clustering.labels_, dtype=bool)\n",
    "core_samples_mask[clustering.core_sample_indices_] = True\n",
    "\n",
    "for k, col in zip(unique_labels, colors):\n",
    "    if k == -1:\n",
    "        # Black used for noise.\n",
    "        col = [0, 0, 0, 1]\n",
    "\n",
    "    class_member_mask = (labels == k)\n",
    "\n",
    "    xy = X[class_member_mask & core_samples_mask]\n",
    "    plt.plot(xy[:, 8], xy[:, 9], 'o', markerfacecolor=tuple(col),\n",
    "             markeredgecolor='k', markersize=15)\n",
    "\n",
    "    xy = X[class_member_mask & ~core_samples_mask]\n",
    "    plt.plot(xy[:, 8], xy[:, 9], 'o', markerfacecolor=tuple(col),\n",
    "             markeredgecolor='k', markersize=0.1)\n",
    "\n",
    "plt.title('Estimated number of clusters: %d' % n_clusters_)\n",
    "plt.show()"
   ]
  },
  {
   "cell_type": "markdown",
   "metadata": {
    "id": "a9dM1YEL4Wgv"
   },
   "source": [
    "From the plots, we can observe how the two clustering algorithms perform and generate clusters in varying depth of detail."
   ]
  }
 ],
 "metadata": {
  "accelerator": "GPU",
  "colab": {
   "collapsed_sections": [],
   "name": "Challenge_5.ipynb",
   "provenance": []
  },
  "kernelspec": {
   "display_name": "Python 3",
   "language": "python",
   "name": "python3"
  },
  "language_info": {
   "codemirror_mode": {
    "name": "ipython",
    "version": 3
   },
   "file_extension": ".py",
   "mimetype": "text/x-python",
   "name": "python",
   "nbconvert_exporter": "python",
   "pygments_lexer": "ipython3",
   "version": "3.6.12"
  }
 },
 "nbformat": 4,
 "nbformat_minor": 1
}
