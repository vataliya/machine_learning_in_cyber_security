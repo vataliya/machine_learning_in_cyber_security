{
 "cells": [
  {
   "cell_type": "markdown",
   "metadata": {},
   "source": [
    "# Challenge 8"
   ]
  },
  {
   "cell_type": "code",
   "execution_count": 1,
   "metadata": {},
   "outputs": [],
   "source": [
    "import pandas as pd \n",
    "import numpy as np\n",
    "from sklearn import preprocessing\n",
    "from sklearn.svm import LinearSVC, NuSVC\n",
    "from sklearn.linear_model import SGDClassifier\n",
    "from sklearn.neighbors import KNeighborsClassifier, NearestCentroid\n",
    "from sklearn.model_selection import cross_val_score\n",
    "import warnings\n",
    "warnings.filterwarnings('ignore')"
   ]
  },
  {
   "cell_type": "markdown",
   "metadata": {},
   "source": [
    "####  Import Labeled and Unlabeled Datasets:"
   ]
  },
  {
   "cell_type": "code",
   "execution_count": 2,
   "metadata": {},
   "outputs": [],
   "source": [
    "labeled = pd.read_csv('Dataset_Challenge8/8_labeled.csv')\n",
    "x_unlabeled = pd.read_csv('Dataset_Challenge8/8_unlabeled.csv')"
   ]
  },
  {
   "cell_type": "markdown",
   "metadata": {},
   "source": [
    "####  Split Labeled dataset into X_train and y_train:"
   ]
  },
  {
   "cell_type": "code",
   "execution_count": 3,
   "metadata": {},
   "outputs": [],
   "source": [
    "x_train = labeled.iloc[:,:-1]\n",
    "y_train = labeled.iloc[:,-1]"
   ]
  },
  {
   "cell_type": "markdown",
   "metadata": {},
   "source": [
    "####  Encoding categorical columns to numrical:"
   ]
  },
  {
   "cell_type": "code",
   "execution_count": 4,
   "metadata": {},
   "outputs": [],
   "source": [
    "le = preprocessing.LabelEncoder()\n",
    "columns = x_train.columns.tolist()\n",
    "for x in columns:\n",
    "    x_train[x] = le.fit_transform(x_train[x])\n",
    "    x_unlabeled[x] = le.fit_transform(x_unlabeled[x])"
   ]
  },
  {
   "cell_type": "markdown",
   "metadata": {},
   "source": [
    "####  Define a list of Models:"
   ]
  },
  {
   "cell_type": "code",
   "execution_count": 5,
   "metadata": {},
   "outputs": [],
   "source": [
    "models = [\n",
    "    LinearSVC(),\n",
    "    NuSVC(nu=0.0001),\n",
    "    SGDClassifier(max_iter=1000, tol=1e-3),\n",
    "    NearestCentroid(),\n",
    "    KNeighborsClassifier()\n",
    "]"
   ]
  },
  {
   "cell_type": "markdown",
   "metadata": {},
   "source": [
    "####  Train the models on labeled data with 5 fold cross validation and RMSE scoring:"
   ]
  },
  {
   "cell_type": "code",
   "execution_count": 6,
   "metadata": {},
   "outputs": [
    {
     "name": "stdout",
     "output_type": "stream",
     "text": [
      "LinearSVC                 CV-5 RMSE:  0.62 (+/- 0.09)\n",
      "NuSVC                     CV-5 RMSE:  0.74 (+/- 0.20)\n",
      "SGDClassifier             CV-5 RMSE:  0.69 (+/- 0.31)\n",
      "NearestCentroid           CV-5 RMSE:  0.57 (+/- 0.04)\n",
      "KNeighborsClassifier      CV-5 RMSE:  0.49 (+/- 0.03)\n"
     ]
    }
   ],
   "source": [
    "for model in models:\n",
    "    model.seed = 42\n",
    "    num_folds = 5\n",
    "    scores = cross_val_score(model, x_train, y_train, cv=num_folds, scoring='neg_mean_squared_error')\n",
    "    score_description = \" %0.2f (+/- %0.2f)\" % (np.sqrt(scores.mean()*-1), scores.std() * 2)\n",
    "    print('{model:25} CV-5 RMSE: {score}'.format(model=model.__class__.__name__, score=score_description))"
   ]
  },
  {
   "cell_type": "markdown",
   "metadata": {},
   "source": [
    "####  Use the trained models to predict labels for unlabaled data and retrain the models on merged dataset:"
   ]
  },
  {
   "cell_type": "code",
   "execution_count": 7,
   "metadata": {},
   "outputs": [
    {
     "name": "stdout",
     "output_type": "stream",
     "text": [
      "LinearSVC                 CV-5 RMSE:  0.49 (+/- 0.57)\n",
      "NuSVC                     CV-5 RMSE:  0.47 (+/- 0.76)\n",
      "SGDClassifier             CV-5 RMSE:  0.24 (+/- 0.05)\n",
      "NearestCentroid           CV-5 RMSE:  0.45 (+/- 0.01)\n",
      "KNeighborsClassifier      CV-5 RMSE:  0.14 (+/- 0.00)\n"
     ]
    }
   ],
   "source": [
    "for model in models:\n",
    "    model.seed = 42\n",
    "    num_folds = 5\n",
    "    model.fit(x_train, y_train)   # Training\n",
    "    y_unlabeled = model.predict(x_unlabeled)  # Creating pseudo-labeled data\n",
    "    y_unlabeled = pd.DataFrame(y_unlabeled, columns = ['malware'])\n",
    "    seudo_labeled_data = x_unlabeled.join(y_unlabeled)\n",
    "    seudo_labeled_data = seudo_labeled_data.fillna(0)\n",
    "    x_merged = x_train.append(seudo_labeled_data.iloc[:,:-1])\n",
    "    y_merged = y_train.append(seudo_labeled_data.iloc[:,-1])\n",
    "    scores = cross_val_score(model, x_merged.sample(frac=1,random_state=10), y_merged.sample(frac=1,random_state=10), \n",
    "                             cv=num_folds, scoring='neg_mean_squared_error')\n",
    "    score_description = \" %0.2f (+/- %0.2f)\" % (np.sqrt(scores.mean()*-1), scores.std() * 2)\n",
    "    print('{model:25} CV-5 RMSE: {score}'.format(model=model.__class__.__name__, score=score_description))"
   ]
  }
 ],
 "metadata": {
  "kernelspec": {
   "display_name": "Python 3",
   "language": "python",
   "name": "python3"
  },
  "language_info": {
   "codemirror_mode": {
    "name": "ipython",
    "version": 3
   },
   "file_extension": ".py",
   "mimetype": "text/x-python",
   "name": "python",
   "nbconvert_exporter": "python",
   "pygments_lexer": "ipython3",
   "version": "3.6.12"
  }
 },
 "nbformat": 4,
 "nbformat_minor": 4
}
